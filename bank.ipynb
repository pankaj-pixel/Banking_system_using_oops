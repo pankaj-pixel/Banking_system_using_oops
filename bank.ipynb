{
  "nbformat": 4,
  "nbformat_minor": 0,
  "metadata": {
    "colab": {
      "provenance": [],
      "authorship_tag": "ABX9TyPJlCDtG9KSq0BHFvFib7zf",
      "include_colab_link": true
    },
    "kernelspec": {
      "name": "python3",
      "display_name": "Python 3"
    },
    "language_info": {
      "name": "python"
    }
  },
  "cells": [
    {
      "cell_type": "markdown",
      "metadata": {
        "id": "view-in-github",
        "colab_type": "text"
      },
      "source": [
        "<a href=\"https://colab.research.google.com/github/pankaj-pixel/Banking_system_using_oops/blob/main/bank.ipynb\" target=\"_parent\"><img src=\"https://colab.research.google.com/assets/colab-badge.svg\" alt=\"Open In Colab\"/></a>"
      ]
    },
    {
      "cell_type": "code",
      "source": [],
      "metadata": {
        "id": "pF11uj3Y21dG"
      },
      "execution_count": null,
      "outputs": []
    },
    {
      "cell_type": "markdown",
      "source": [],
      "metadata": {
        "id": "pQuPsQwQ78HE"
      }
    },
    {
      "cell_type": "markdown",
      "source": [],
      "metadata": {
        "id": "fdxE7rkl4QXs"
      }
    },
    {
      "cell_type": "markdown",
      "source": [
        "\n",
        "\n",
        "1.  create a class Bank\n",
        "1.  assigne variables username, Balance ,min_balance\n",
        "2.   create a method called deposite and whatever amount is deposite by user and add to the balance\n",
        "4.create another method withdrawl check if withdrawl is possible\n",
        "else print insufficinet balance\n",
        "5.create a statment which show the Total balance in Account\n",
        "6.create saving account and current using Inheritence\n",
        "\n",
        "\n"
      ],
      "metadata": {
        "id": "TfHfiRJy222Z"
      }
    },
    {
      "cell_type": "markdown",
      "source": [
        "##Banking System Using OOPs concept"
      ],
      "metadata": {
        "id": "JyrvTR5e1J2a"
      }
    },
    {
      "cell_type": "markdown",
      "source": [],
      "metadata": {
        "id": "jqwPCkTg2yRN"
      }
    },
    {
      "cell_type": "code",
      "execution_count": 42,
      "metadata": {
        "id": "DcsLugM30iUY"
      },
      "outputs": [],
      "source": [
        "class Bank():  \n",
        "   def __init__(self,username,Balance,min_balance):   \n",
        "    self.username = username\n",
        "    self.Balance = Balance\n",
        "    self.min_balance  = min_balance\n",
        "   \n",
        "   def Deposite(self,amount):\n",
        "        self.amount += Balance\n",
        "\n",
        "   def withdrawl(self,Balance):\n",
        "      if  self.Balance - amount >= self.min_balance:\n",
        "          self.Balance -= amount\n",
        "      else:\n",
        "          print('insufficient balance')\n",
        "              \n",
        "   def Statement():\n",
        "       print(\"Total Amount = ${}\".format(self.Balance))  \n",
        "\n"
      ]
    },
    {
      "cell_type": "code",
      "source": [
        "class Saving(Bank):\n",
        "  \n",
        "  def __init__(self, username, Balance , min_balance):\n",
        "    super().__init__(username, Balance, min_balance = 0)\n",
        "  \n",
        "    def __str__(self):\n",
        "     return \"{}'saving Account has balance ${}\".format(self.username,self.Balance)\n",
        "\n",
        "class Current(Bank):\n",
        "  def __init__(self, username, Balance, min_balance):\n",
        "    super().__init__(username, Balance, min_balance =0)\n",
        "  \n",
        "    def __str__(self) :\n",
        "     return \"{}'Current Account has balance ${}\".format(self.username,self.Balance)  \n",
        "\n"
      ],
      "metadata": {
        "id": "Ux8PJM5p1IMC"
      },
      "execution_count": 43,
      "outputs": []
    },
    {
      "cell_type": "code",
      "source": [
        "user = Bank(\"pankaj\",89000,0)\n",
        "print(user.username)\n",
        "\n",
        "user.Deposite(5000)"
      ],
      "metadata": {
        "id": "7EyBlanvO9LT",
        "outputId": "9ebc2028-f2b7-43fd-be98-6e578d399899",
        "colab": {
          "base_uri": "https://localhost:8080/",
          "height": 339
        }
      },
      "execution_count": 44,
      "outputs": [
        {
          "output_type": "stream",
          "name": "stdout",
          "text": [
            "pankaj\n"
          ]
        },
        {
          "output_type": "error",
          "ename": "AttributeError",
          "evalue": "ignored",
          "traceback": [
            "\u001b[0;31m---------------------------------------------------------------------------\u001b[0m",
            "\u001b[0;31mAttributeError\u001b[0m                            Traceback (most recent call last)",
            "\u001b[0;32m<ipython-input-44-3a640ff14b6c>\u001b[0m in \u001b[0;36m<module>\u001b[0;34m\u001b[0m\n\u001b[1;32m      2\u001b[0m \u001b[0mprint\u001b[0m\u001b[0;34m(\u001b[0m\u001b[0muser\u001b[0m\u001b[0;34m.\u001b[0m\u001b[0musername\u001b[0m\u001b[0;34m)\u001b[0m\u001b[0;34m\u001b[0m\u001b[0;34m\u001b[0m\u001b[0m\n\u001b[1;32m      3\u001b[0m \u001b[0;34m\u001b[0m\u001b[0m\n\u001b[0;32m----> 4\u001b[0;31m \u001b[0muser\u001b[0m\u001b[0;34m.\u001b[0m\u001b[0mDeposite\u001b[0m\u001b[0;34m(\u001b[0m\u001b[0;36m5000\u001b[0m\u001b[0;34m)\u001b[0m\u001b[0;34m\u001b[0m\u001b[0;34m\u001b[0m\u001b[0m\n\u001b[0m",
            "\u001b[0;32m<ipython-input-42-29c117f04c57>\u001b[0m in \u001b[0;36mDeposite\u001b[0;34m(self, amount)\u001b[0m\n\u001b[1;32m      6\u001b[0m \u001b[0;34m\u001b[0m\u001b[0m\n\u001b[1;32m      7\u001b[0m    \u001b[0;32mdef\u001b[0m \u001b[0mDeposite\u001b[0m\u001b[0;34m(\u001b[0m\u001b[0mself\u001b[0m\u001b[0;34m,\u001b[0m\u001b[0mamount\u001b[0m\u001b[0;34m)\u001b[0m\u001b[0;34m:\u001b[0m\u001b[0;34m\u001b[0m\u001b[0;34m\u001b[0m\u001b[0m\n\u001b[0;32m----> 8\u001b[0;31m         \u001b[0mself\u001b[0m\u001b[0;34m.\u001b[0m\u001b[0mamount\u001b[0m \u001b[0;34m+=\u001b[0m \u001b[0mBalance\u001b[0m\u001b[0;34m\u001b[0m\u001b[0;34m\u001b[0m\u001b[0m\n\u001b[0m\u001b[1;32m      9\u001b[0m \u001b[0;34m\u001b[0m\u001b[0m\n\u001b[1;32m     10\u001b[0m    \u001b[0;32mdef\u001b[0m \u001b[0mwithdrawl\u001b[0m\u001b[0;34m(\u001b[0m\u001b[0mself\u001b[0m\u001b[0;34m,\u001b[0m\u001b[0mBalance\u001b[0m\u001b[0;34m)\u001b[0m\u001b[0;34m:\u001b[0m\u001b[0;34m\u001b[0m\u001b[0;34m\u001b[0m\u001b[0m\n",
            "\u001b[0;31mAttributeError\u001b[0m: 'Bank' object has no attribute 'amount'"
          ]
        }
      ]
    },
    {
      "cell_type": "code",
      "source": [],
      "metadata": {
        "id": "UHAMXnDFPKWr"
      },
      "execution_count": null,
      "outputs": []
    }
  ]
}